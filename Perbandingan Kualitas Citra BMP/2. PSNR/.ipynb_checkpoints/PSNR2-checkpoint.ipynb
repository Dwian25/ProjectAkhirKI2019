{
 "cells": [
  {
   "cell_type": "code",
   "execution_count": 1,
   "metadata": {},
   "outputs": [
    {
     "name": "stdout",
     "output_type": "stream",
     "text": [
      "PSNR value is 12.988864037104285\n"
     ]
    }
   ],
   "source": [
    "import numpy as np\n",
    "import math\n",
    "import cv2\n",
    "\n",
    "def Representational(r,g,b):\n",
    "\treturn (0.299*r+0.287*g+0.114*b)\n",
    "\n",
    "def calculate(img):\n",
    "\tarray = np.zeros(img.shape)\n",
    "\tb,g,r = cv2.split(img)\n",
    "\tpixelAt = Representational(r,g,b)\n",
    "\treturn pixelAt\n",
    "\n",
    "def main():\n",
    "\t\n",
    "\t#Loading images (orignal image and compressed image)\n",
    "\torignal_image = cv2.imread('objek/rgb.bmp',1)\n",
    "\tcompressed_image = cv2.imread('objek/rgb1.bmp',1)\n",
    "\n",
    "\t#Getting image height and width\n",
    "\theight,width = orignal_image.shape[:2]\n",
    "\n",
    "\t#Error initialization\n",
    "\terror_sum = 0.0\n",
    "\n",
    "\torignalPixelAt = 0.0\n",
    "\tcompressedPixelAt = 0.0\n",
    "\n",
    "\torignalPixelAt = calculate(orignal_image)\n",
    "\tcompressedPixelAt = calculate(compressed_image)\n",
    "\tdiff = orignalPixelAt - compressedPixelAt\n",
    "\terror = np.sum(np.abs(diff) ** 2)\n",
    "\n",
    "\terror = error/(height*width)\n",
    "\n",
    "\n",
    "\t#MSR = error_sum/(height*width)\n",
    "\tPSNR = -(10*math.log10(error/(255*255)))\n",
    "\n",
    "\tprint(\"PSNR value is {}\".format(PSNR))\n",
    "\n",
    "\n",
    "if __name__ == '__main__':\n",
    "\tmain()\n"
   ]
  },
  {
   "cell_type": "code",
   "execution_count": null,
   "metadata": {},
   "outputs": [],
   "source": []
  },
  {
   "cell_type": "code",
   "execution_count": null,
   "metadata": {},
   "outputs": [],
   "source": []
  }
 ],
 "metadata": {
  "kernelspec": {
   "display_name": "Python 3",
   "language": "python",
   "name": "python3"
  },
  "language_info": {
   "codemirror_mode": {
    "name": "ipython",
    "version": 3
   },
   "file_extension": ".py",
   "mimetype": "text/x-python",
   "name": "python",
   "nbconvert_exporter": "python",
   "pygments_lexer": "ipython3",
   "version": "3.7.4"
  }
 },
 "nbformat": 4,
 "nbformat_minor": 2
}
